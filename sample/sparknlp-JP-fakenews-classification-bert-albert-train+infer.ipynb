{
 "cells": [
  {
   "cell_type": "markdown",
   "metadata": {
    "id": "Kl6fW8Fkf3vN"
   },
   "source": [
    "# fakenews-pyspark-bert-train+infer"
   ]
  },
  {
   "cell_type": "markdown",
   "metadata": {
    "id": "06DMedvcgjKa"
   },
   "source": [
    "## Colab Setup"
   ]
  },
  {
   "cell_type": "code",
   "execution_count": null,
   "metadata": {
    "colab": {
     "base_uri": "https://localhost:8080/"
    },
    "executionInfo": {
     "elapsed": 49811,
     "status": "ok",
     "timestamp": 1653214410206,
     "user": {
      "displayName": "Jing Wora",
      "userId": "14098338404840441752"
     },
     "user_tz": -540
    },
    "id": "3Mc2rld9f7YW",
    "outputId": "4c5a58fa-4b41-4cc3-b4a2-9e6914084a9d"
   },
   "outputs": [
    {
     "name": "stdout",
     "output_type": "stream",
     "text": [
      "\u001b[K     |████████████████████████████████| 281.3 MB 34 kB/s \n",
      "\u001b[K     |████████████████████████████████| 142 kB 16.2 MB/s \n",
      "\u001b[K     |████████████████████████████████| 198 kB 49.7 MB/s \n",
      "\u001b[?25h  Building wheel for pyspark (setup.py) ... \u001b[?25l\u001b[?25hdone\n"
     ]
    }
   ],
   "source": [
    "! pip install -q pyspark==3.2.0 spark-nlp==3.4.2"
   ]
  },
  {
   "cell_type": "code",
   "execution_count": null,
   "metadata": {
    "colab": {
     "base_uri": "https://localhost:8080/",
     "height": 258
    },
    "executionInfo": {
     "elapsed": 30429,
     "status": "ok",
     "timestamp": 1653214440853,
     "user": {
      "displayName": "Jing Wora",
      "userId": "14098338404840441752"
     },
     "user_tz": -540
    },
    "id": "KjcBNzFVgoky",
    "outputId": "c412c3d8-765c-4fdb-e7f6-b95b73fa5245"
   },
   "outputs": [
    {
     "name": "stdout",
     "output_type": "stream",
     "text": [
      "Spark NLP version 3.4.2\n",
      "Apache Spark version: 3.2.0\n"
     ]
    },
    {
     "data": {
      "text/html": [
       "\n",
       "            <div>\n",
       "                <p><b>SparkSession - in-memory</b></p>\n",
       "                \n",
       "        <div>\n",
       "            <p><b>SparkContext</b></p>\n",
       "\n",
       "            <p><a href=\"http://5d3e48e641d0:4040\">Spark UI</a></p>\n",
       "\n",
       "            <dl>\n",
       "              <dt>Version</dt>\n",
       "                <dd><code>v3.2.0</code></dd>\n",
       "              <dt>Master</dt>\n",
       "                <dd><code>local[*]</code></dd>\n",
       "              <dt>AppName</dt>\n",
       "                <dd><code>Spark NLP</code></dd>\n",
       "            </dl>\n",
       "        </div>\n",
       "        \n",
       "            </div>\n",
       "        "
      ],
      "text/plain": [
       "<pyspark.sql.session.SparkSession at 0x7f16c79c80d0>"
      ]
     },
     "execution_count": 2,
     "metadata": {},
     "output_type": "execute_result"
    }
   ],
   "source": [
    "import sparknlp\n",
    "\n",
    "spark = sparknlp.start(gpu = True, spark32=True) # for GPU training >> sparknlp.start(gpu = True) # for Spark 2.3 =>> sparknlp.start(spark23 = True)\n",
    "\n",
    "from sparknlp.base import *\n",
    "from sparknlp.annotator import *\n",
    "from pyspark.ml import Pipeline\n",
    "import pandas as pd\n",
    "import os\n",
    "\n",
    "print(\"Spark NLP version\", sparknlp.version())\n",
    "print(\"Apache Spark version:\", spark.version)\n",
    "\n",
    "spark"
   ]
  },
  {
   "cell_type": "code",
   "execution_count": null,
   "metadata": {
    "colab": {
     "base_uri": "https://localhost:8080/"
    },
    "executionInfo": {
     "elapsed": 37314,
     "status": "ok",
     "timestamp": 1653214478147,
     "user": {
      "displayName": "Jing Wora",
      "userId": "14098338404840441752"
     },
     "user_tz": -540
    },
    "id": "cvoD9NnS6Qlc",
    "outputId": "6cd21d10-1121-4595-d997-bfc74ac3938c"
   },
   "outputs": [
    {
     "name": "stdout",
     "output_type": "stream",
     "text": [
      "Mounted at /content/drive\n"
     ]
    }
   ],
   "source": [
    "from google.colab import drive \n",
    "drive.mount('/content/drive')"
   ]
  },
  {
   "cell_type": "markdown",
   "metadata": {
    "id": "kYpObqB6RkDk"
   },
   "source": [
    "## Config"
   ]
  },
  {
   "cell_type": "code",
   "execution_count": null,
   "metadata": {
    "id": "B6-vb1RuRlpO"
   },
   "outputs": [],
   "source": [
    "class CFG:\n",
    "    # Globals #\n",
    "    EXP_ID = 'EXP_010' \n",
    "    seed = 111"
   ]
  },
  {
   "cell_type": "code",
   "execution_count": null,
   "metadata": {
    "colab": {
     "base_uri": "https://localhost:8080/"
    },
    "executionInfo": {
     "elapsed": 1047,
     "status": "ok",
     "timestamp": 1653214479192,
     "user": {
      "displayName": "Jing Wora",
      "userId": "14098338404840441752"
     },
     "user_tz": -540
    },
    "id": "Wjm41TKw6vez",
    "outputId": "b79b6d67-9127-4b1d-acd4-cf27786122e1"
   },
   "outputs": [
    {
     "name": "stdout",
     "output_type": "stream",
     "text": [
      "/content/drive/MyDrive/Projects/nishika/2022_fake_news_detection/01_code\n"
     ]
    }
   ],
   "source": [
    "# Set Path\n",
    "import os\n",
    "\n",
    "ROOT =       '/content/drive/MyDrive/Projects/nishika/2022_fake_news_detection'\n",
    "CUR_DIR =    ROOT + '/01_code/'\n",
    "DATA_DIR =   ROOT + '/00_data/'\n",
    "MODEL_DIR =  ROOT + '/02_model/'\n",
    "LOG_DIR =    ROOT + f'/02_model/{CFG.EXP_ID}/log/'\n",
    "RESULT_DIR = ROOT + '/03_result/'\n",
    "\n",
    "if not os.path.exists(LOG_DIR):\n",
    "    os.makedirs(LOG_DIR)\n",
    "\n",
    "%cd $CUR_DIR"
   ]
  },
  {
   "cell_type": "markdown",
   "metadata": {
    "id": "td3QT35BhgFQ"
   },
   "source": [
    "## Load Dataset"
   ]
  },
  {
   "cell_type": "code",
   "execution_count": null,
   "metadata": {
    "colab": {
     "base_uri": "https://localhost:8080/"
    },
    "executionInfo": {
     "elapsed": 6445,
     "status": "ok",
     "timestamp": 1653214485636,
     "user": {
      "displayName": "Jing Wora",
      "userId": "14098338404840441752"
     },
     "user_tz": -540
    },
    "id": "eoTE46WThUz2",
    "outputId": "44acce9d-8d87-4712-fe60-dbd3e6118efa"
   },
   "outputs": [
    {
     "name": "stdout",
     "output_type": "stream",
     "text": [
      "+----------+------+-------------------------------------------------------------------------------------------------+\n",
      "|        id|isFake|                                                                                             text|\n",
      "+----------+------+-------------------------------------------------------------------------------------------------+\n",
      "|d19828eb64|     1|       Cによると、アメリカの元大統領で、最長寿だったジョージ・ウォーカー・ブッシュ氏が27日(C-5...|\n",
      "|dfaab096bd|     0|    中日新聞によると、コナミカップ・プロ野球アジアシリーズ2007の決勝戦・日本の中日ドラゴンズ対...|\n",
      "|163504bf95|     1|      愛媛Cは、11月12日にリーグ準加盟の承認を受けて、来期リーグ加盟を目指す愛媛Cに対して、鈴木...|\n",
      "|ed3c9dc579|     0|         国民日報によると3日、7時50分（UTC+9、日本時間と同じ）大韓民国京畿道平沢市の西海岸（ソ...|\n",
      "|e06f88267f|     1|   共同通信によると、5日午後2時過ぎから東京都、神奈川県、千葉県の3都県の広い範囲の地域で停電が...|\n",
      "|2f5903a788|     0|                2005年12月31日の河北新報、日刊スポーツによると、同年12月30日深夜10時35分ごろ、...|\n",
      "|b2ca4f9386|     1|        日本経済新聞によると、日本バスケットボール協会は4月3日、2007年10月の開幕を目指す協会主...|\n",
      "|ea52aa5790|     0|          神奈川新聞によると30日(UTC+9)、横浜市北部に同市営地下鉄の新線「グリーンライン（4号線...|\n",
      "|a994696540|     0|     マイナビニュースとMdNによると、アイ・オー・データ機器より新モデルのネットワークカメラを20...|\n",
      "|cb6ea64e2e|     0|     朝日新聞によると、7月16日に起きた新潟県中越沖地震のため試合の開催を自粛している第89回全国...|\n",
      "|675b544c61|     1|  毎日新聞によると、サッカー日本代表の監督や、国際サッカー連盟副会長も努めた長沼健さんが6月2日...|\n",
      "|d70ada7579|     1|参議院本会議で郵政民営化法案が否決されたことを受け、自由民主党の石破茂幹事長は民主党・社民党を...|\n",
      "|a07cf27590|     0|              NHKによると、2011年4月に民放で、2012年1月にはEテレでも再編集して放送されたアニメ...|\n",
      "|b8dc2c143b|     0|  気象庁は30日午後、山口県を除いた中国・近畿・東海・北陸・関東甲信の各地方で梅雨明けしたとみら...|\n",
      "|2a50a99e1b|     1|   楽天株式会社は7月23日、同社運営のインターネットショッピングサイト「楽天市場」に出店している...|\n",
      "|f20d84bdd5|     1|     47によると、4月2日、川崎市多摩区のマンションで起きた女性襲撃と小学校3年生の男児の転落死事...|\n",
      "|43a0298ed7|     1|               朝日新聞によると、松下電器は、ブランドを「anasonic」から「ational」へ一本化する...|\n",
      "|94f2378317|     1|       産経新聞・読売新聞・朝日新聞などによると7月22日午後8時40分ごろ、東京都八王子市明神町3の...|\n",
      "|1e2ea2a0a8|     0|           ぷらっとホームは、同社取締役会長の本多弘男さんが6月6日 (UTC+9) に亡くなっていたこと...|\n",
      "|229d778e0f|     1|       によると、フランス南東部アン県で22日(現地時刻、C+2)、武装した集団が銃を乱射し、少なくと...|\n",
      "+----------+------+-------------------------------------------------------------------------------------------------+\n",
      "only showing top 20 rows\n",
      "\n"
     ]
    }
   ],
   "source": [
    "trainDataset = spark.read.option(\"header\", True).csv(DATA_DIR + 'train.csv')\n",
    "holdout = spark.read.option(\"header\", True).csv(DATA_DIR + 'test.csv')\n",
    "sample = spark.read.option(\"header\", True).csv(DATA_DIR + 'sample_submission.csv')\n",
    "\n",
    "trainDataset.show(truncate=50)"
   ]
  },
  {
   "cell_type": "code",
   "execution_count": null,
   "metadata": {
    "colab": {
     "base_uri": "https://localhost:8080/"
    },
    "executionInfo": {
     "elapsed": 2114,
     "status": "ok",
     "timestamp": 1653214487740,
     "user": {
      "displayName": "Jing Wora",
      "userId": "14098338404840441752"
     },
     "user_tz": -540
    },
    "id": "SEaUJ3xzhgLf",
    "outputId": "990a940b-5155-46bb-e098-76f56eb29f52"
   },
   "outputs": [
    {
     "name": "stdout",
     "output_type": "stream",
     "text": [
      "Total 3781\n",
      "+------+-----+\n",
      "|isFake|count|\n",
      "+------+-----+\n",
      "|     1| 1937|\n",
      "|     0| 1844|\n",
      "+------+-----+\n",
      "\n"
     ]
    }
   ],
   "source": [
    "from pyspark.sql.functions import col\n",
    "\n",
    "print(f\"Total {trainDataset.count()}\")\n",
    "\n",
    "trainDataset.groupBy(\"isFake\") \\\n",
    "    .count() \\\n",
    "    .orderBy(col(\"count\").desc()) \\\n",
    "    .show()"
   ]
  },
  {
   "cell_type": "code",
   "execution_count": null,
   "metadata": {
    "colab": {
     "base_uri": "https://localhost:8080/"
    },
    "executionInfo": {
     "elapsed": 391,
     "status": "ok",
     "timestamp": 1653222914362,
     "user": {
      "displayName": "Jing Wora",
      "userId": "14098338404840441752"
     },
     "user_tz": -540
    },
    "id": "9g5LrNC28kwB",
    "outputId": "8ba6137b-1d65-4906-d8b8-e59452693fd2"
   },
   "outputs": [
    {
     "name": "stdout",
     "output_type": "stream",
     "text": [
      "Train Dataset Count: 3021\n",
      "Test Dataset Count: 760\n"
     ]
    }
   ],
   "source": [
    "# set seed for reproducibility\n",
    "(trainData, testData) = trainDataset.randomSplit([0.8, 0.2], seed = CFG.seed)\n",
    "print(\"Train Dataset Count: \" + str(trainData.count()))\n",
    "print(\"Test Dataset Count: \" + str(testData.count()))"
   ]
  },
  {
   "cell_type": "markdown",
   "metadata": {
    "id": "raXrZ8sVY_gW"
   },
   "source": [
    "## Model Pipeline"
   ]
  },
  {
   "cell_type": "code",
   "execution_count": null,
   "metadata": {
    "colab": {
     "base_uri": "https://localhost:8080/"
    },
    "executionInfo": {
     "elapsed": 11516,
     "status": "ok",
     "timestamp": 1653228217282,
     "user": {
      "displayName": "Jing Wora",
      "userId": "14098338404840441752"
     },
     "user_tz": -540
    },
    "id": "QHMHKkekYqTB",
    "outputId": "646938e0-6d31-464a-f517-3dd41319814d"
   },
   "outputs": [
    {
     "name": "stdout",
     "output_type": "stream",
     "text": [
      "wordseg_gsd_ud download started this may take some time.\n",
      "Approximate size to download 979 KB\n",
      "[OK!]\n",
      "stopwords_iso download started this may take some time.\n",
      "Approximate size to download 1.8 KB\n",
      "[OK!]\n",
      "lemma download started this may take some time.\n",
      "Approximate size to download 3.4 MB\n",
      "[OK!]\n",
      "albert_embeddings_albert_base_japanese_v1 download started this may take some time.\n",
      "Approximate size to download 43.5 MB\n",
      "[OK!]\n"
     ]
    }
   ],
   "source": [
    "\n",
    "document_assembler = DocumentAssembler() \\\n",
    "    .setInputCol(\"text\") \\\n",
    "    .setOutputCol(\"document\")\n",
    "\n",
    "word_segmenter = WordSegmenterModel.pretrained('wordseg_gsd_ud', 'ja')\\\n",
    "        .setInputCols([\"document\"])\\\n",
    "        .setOutputCol(\"token\") \n",
    "\n",
    "normalizer = Normalizer() \\\n",
    "    .setInputCols([\"token\"]) \\\n",
    "    .setOutputCol(\"normalized\")\n",
    "\n",
    "stopwords_cleaner = StopWordsCleaner.pretrained(\"stopwords_iso\", \"ja\")\\\n",
    "    .setInputCols(\"normalized\")\\\n",
    "    .setOutputCol(\"cleanTokens\")\\\n",
    "\n",
    "lemmatizer = LemmatizerModel.pretrained(\"lemma\", \"ja\") \\\n",
    "        .setInputCols([\"cleanTokens\"]) \\\n",
    "        .setOutputCol(\"lemma\")\n",
    "\n",
    "# bert_embeddings = BertEmbeddings().pretrained(name=\"bert_base_japanese\", lang=\"ja\") \\\n",
    "#     .setInputCols([\"document\",'cleanTokens'])\\\n",
    "#     .setOutputCol(\"embeddings\")\n",
    "\n",
    "### bert pretrained \n",
    "# name='small_bert_L4_256', lang='en'\n",
    "# name='sent_small_bert_L8_512', lang='en'\n",
    "# name='bert_embeddings_bert_base_ja_cased', lang='ja'\n",
    "# name=\"bert_base_japanese\", lang=\"ja\"\n",
    "\n",
    "\n",
    "albert_embeddings = AlbertEmbeddings.pretrained(\"albert_embeddings_albert_base_japanese_v1\",\"ja\") \\\n",
    "    .setInputCols([\"document\", \"lemma\"]) \\\n",
    "    .setOutputCol(\"embeddings\")\n",
    "\n",
    "embeddingsSentence = SentenceEmbeddings() \\\n",
    "    .setInputCols([\"document\", \"embeddings\"]) \\\n",
    "    .setOutputCol(\"sentence_embeddings\") \\\n",
    "    .setPoolingStrategy(\"AVERAGE\")\n",
    "\n",
    "classsifierdl = ClassifierDLApproach()\\\n",
    "    .setInputCols([\"sentence_embeddings\"])\\\n",
    "    .setOutputCol(\"class\")\\\n",
    "    .setLabelColumn(\"isFake\")\\\n",
    "    .setMaxEpochs(30)\\\n",
    "    .setLr(0.002)\\\n",
    "    .setDropout(0.5)\\\n",
    "    .setBatchSize(4)\\\n",
    "    .setEnableOutputLogs(True)\\\n",
    "    .setRandomSeed(CFG.seed)\\\n",
    "    .setOutputLogsPath(LOG_DIR)\n",
    "\n",
    "# ClassifierDLApproach(Default): lr=0.005, batchSize=64, dropou=0.5, maxEpochs=30\n",
    "\n",
    "bert_clf_pipeline = Pipeline(stages=[\n",
    "    document_assembler,\n",
    "    word_segmenter,\n",
    "    normalizer,\n",
    "    stopwords_cleaner,\n",
    "    lemmatizer,\n",
    "    albert_embeddings,\n",
    "    embeddingsSentence,\n",
    "    classsifierdl\n",
    "])"
   ]
  },
  {
   "cell_type": "code",
   "execution_count": null,
   "metadata": {
    "colab": {
     "base_uri": "https://localhost:8080/"
    },
    "executionInfo": {
     "elapsed": 1724,
     "status": "ok",
     "timestamp": 1653228156687,
     "user": {
      "displayName": "Jing Wora",
      "userId": "14098338404840441752"
     },
     "user_tz": -540
    },
    "id": "ZNyE1OtVIWfK",
    "outputId": "eeabf763-2992-4b44-fc3a-6d24f908c07c"
   },
   "outputs": [
    {
     "name": "stdout",
     "output_type": "stream",
     "text": [
      "+----------+------+-------------------------------------+--------------------+----------------------+----------------------+----------------------+----------------------+------------------------------+\n",
      "|        id|isFake|                                 text|            document|                 token|            normalized|           cleanTokens|                 lemma|                        tokens|\n",
      "+----------+------+-------------------------------------+--------------------+----------------------+----------------------+----------------------+----------------------+------------------------------+\n",
      "|0013fa1710|     1|      スポーツ仲裁裁判所(C)が2月11...|[{document, 0, 38...|[{token, 0, 3, スポ...|[{token, 0, 3, スポ...|[{token, 0, 3, スポ...|[{token, 0, 3, スポ...|  [スポーツ, 仲, 裁, 裁, 判...|\n",
      "|0087cf99a4|     0|  現地時間の23日早朝、エジプト・シ...|[{document, 0, 53...|[{token, 0, 1, 現地...|[{token, 0, 1, 現地...|[{token, 0, 1, 現地...|[{token, 0, 1, 現地...|  [現地, 時間, 日, 早朝, エ...|\n",
      "|00a34678bb|     1|朝日新聞、共同通信によると、みずほ...|[{document, 0, 64...|[{token, 0, 1, 朝日...|[{token, 0, 1, 朝日...|[{token, 0, 1, 朝日...|[{token, 0, 1, 朝日...|  [朝日, 新聞, 共同, 通信, ...|\n",
      "|00cc75b3c3|     1|セイジ・オザワ松本フェスティバル実...|[{document, 0, 45...|[{token, 0, 2, セイ...|[{token, 0, 2, セイ...|[{token, 0, 2, セイ...|[{token, 0, 2, セイ...|  [セイジ, オザワ, 松, 本, ...|\n",
      "|00e6b84936|     1|朝日新聞などが伝えたところによると...|[{document, 0, 39...|[{token, 0, 1, 朝日...|[{token, 0, 1, 朝日...|[{token, 0, 1, 朝日...|[{token, 0, 1, 朝日...|  [朝日, 新聞, 伝える, 年, ...|\n",
      "|00f7f5c26f|     0|       2016年5月25日に安倍晋三総理...|[{document, 0, 38...|  [{token, 0, 3, 20...| [{token, 4, 4, 年,...| [{token, 4, 4, 年,...| [{token, 4, 4, 年,...|    [年, 月, 日, 安倍, 晋, ...|\n",
      "|010b9063e5|     0|     7日午後10時41分ごろ、千葉県北...|[{document, 0, 34...|  [{token, 0, 0, 7,...| [{token, 1, 1, 日,...| [{token, 1, 1, 日,...| [{token, 1, 1, 日,...|  [日, 午後, 時, 分ごろ, 千...|\n",
      "|011ba6714b|     0|  24日、ソニーの中川裕副社長が会見...|[{document, 0, 26...|  [{token, 0, 1, 24...| [{token, 2, 2, 日,...| [{token, 2, 2, 日,...| [{token, 2, 2, 日,...|  [日, ソニー, 中川, 裕, 副...|\n",
      "|012b946b10|     0|テレビゲーム周辺機器を開発している...|[{document, 0, 48...|[{token, 0, 2, テレ...|[{token, 0, 2, テレ...|[{token, 0, 2, テレ...|[{token, 0, 2, テレ...|[テレビ, ゲーム, 周辺, 機器...|\n",
      "|01375f5365|     1|毎日新聞によると、スーダン暫定政府...|[{document, 0, 31...|[{token, 0, 1, 毎日...|[{token, 0, 1, 毎日...|[{token, 0, 1, 毎日...|[{token, 0, 1, 毎日...|[毎日, 新聞, スーダン, 暫定...|\n",
      "|015dd044ee|     1|中日新聞によると、宮崎県の安藤忠恕...|[{document, 0, 50...|[{token, 0, 1, 中日...|[{token, 0, 1, 中日...|[{token, 0, 1, 中日...|[{token, 0, 1, 中日...|  [中日, 新聞, 宮崎, 県, 安...|\n",
      "|01618358b5|     1|朝日新聞および日本経済新聞によると...|[{document, 0, 31...|[{token, 0, 1, 朝日...|[{token, 0, 1, 朝日...|[{token, 0, 1, 朝日...|[{token, 0, 1, 朝日...|  [朝日, 新聞, び, 日本, 経...|\n",
      "|0169084125|     1|時事通信や毎日新聞などが伝えたとこ...|[{document, 0, 52...|[{token, 0, 1, 時事...|[{token, 0, 1, 時事...|[{token, 0, 1, 時事...|[{token, 0, 1, 時事...|  [時事, 通信, 毎日, 新聞, ...|\n",
      "|017ae98719|     0|   国際連合の総会は、13日午後3時（...|[{document, 0, 20...|[{token, 0, 1, 国際...|[{token, 0, 1, 国際...|[{token, 0, 1, 国際...|[{token, 0, 1, 国際...|  [国際, 連合, 総会, 日, 午...|\n",
      "|01ab41be99|     0|   読売新聞・朝日新聞によると、199...|[{document, 0, 80...|[{token, 0, 1, 読売...|[{token, 0, 1, 読売...|[{token, 0, 1, 読売...|[{token, 0, 1, 読売...|  [読売, 新聞, 朝日, 新聞, ...|\n",
      "|01b1ae255c|     0|徳島新聞、読売新聞によると、日本の...|[{document, 0, 38...|[{token, 0, 1, 徳島...|[{token, 0, 1, 徳島...|[{token, 0, 1, 徳島...|[{token, 0, 1, 徳島...|  [徳島, 新聞, 読売, 新聞, ...|\n",
      "|01ff77a3e2|     1|山陽新聞によると、高松市のマンショ...|[{document, 0, 64...|[{token, 0, 1, 山陽...|[{token, 0, 1, 山陽...|[{token, 0, 1, 山陽...|[{token, 0, 1, 山陽...|  [山陽, 新聞, 高松, 市, マ...|\n",
      "|0214181079|     0|         警視庁は11月30日（UTC+9）...|[{document, 0, 47...|[{token, 0, 1, 警視...|[{token, 0, 1, 警視...|[{token, 0, 1, 警視...|[{token, 0, 1, 警視...|     [警視, 庁, 月, 日, UTC...|\n",
      "|023bb9717c|     1|中日新聞によると、アメリカ大リーグ...|[{document, 0, 27...|[{token, 0, 1, 中日...|[{token, 0, 1, 中日...|[{token, 0, 1, 中日...|[{token, 0, 1, 中日...|[中日, 新聞, アメリカ, 大リ...|\n",
      "|023e33504a|     0|      NHKによると、6月20日に奈良県...|[{document, 0, 31...|  [{token, 0, 2, NH...|  [{token, 0, 2, NH...|  [{token, 0, 2, NH...|  [{token, 0, 2, NH...|     [NHK, 月, 日, 奈良, 県...|\n",
      "+----------+------+-------------------------------------+--------------------+----------------------+----------------------+----------------------+----------------------+------------------------------+\n",
      "only showing top 20 rows\n",
      "\n"
     ]
    }
   ],
   "source": [
    "# Transform \n",
    "\n",
    "finisher = Finisher() \\\n",
    "    .setInputCols([\"lemma\"]) \\\n",
    "    .setOutputCols([\"tokens\"]) \\\n",
    "    .setOutputAsArray(True) \\\n",
    "    .setCleanAnnotations(False)\n",
    "\n",
    "transform_pipeline = Pipeline(stages=[\n",
    "    document_assembler,\n",
    "    word_segmenter,\n",
    "    normalizer,\n",
    "    stopwords_cleaner,\n",
    "    lemmatizer, \n",
    "    finisher\n",
    "])\n",
    "\n",
    "transform_pipeline_run = transform_pipeline.fit(trainData)\n",
    "transform_df = transform_pipeline_run.transform(trainData)\n",
    "\n",
    "transform_df.show()"
   ]
  },
  {
   "cell_type": "markdown",
   "metadata": {
    "id": "VVZpu6I2Bi92"
   },
   "source": [
    "## Run"
   ]
  },
  {
   "cell_type": "code",
   "execution_count": null,
   "metadata": {
    "id": "HKb32mhXDrox"
   },
   "outputs": [],
   "source": [
    "# remove the existing logs\n",
    "\n",
    "! rm -r {LOG_DIR}"
   ]
  },
  {
   "cell_type": "code",
   "execution_count": null,
   "metadata": {
    "colab": {
     "base_uri": "https://localhost:8080/"
    },
    "executionInfo": {
     "elapsed": 590165,
     "status": "ok",
     "timestamp": 1653228807823,
     "user": {
      "displayName": "Jing Wora",
      "userId": "14098338404840441752"
     },
     "user_tz": -540
    },
    "id": "g-GPnpKLZlsd",
    "outputId": "2dfb653a-0f89-4b1d-ac01-e4826c39af6d"
   },
   "outputs": [
    {
     "name": "stdout",
     "output_type": "stream",
     "text": [
      "CPU times: user 3.32 s, sys: 565 ms, total: 3.88 s\n",
      "Wall time: 9min 50s\n"
     ]
    }
   ],
   "source": [
    "%%time\n",
    "# training will take some time due to Bert (use GPU runtime when possible)\n",
    "\n",
    "bert_clf_pipelineModel = bert_clf_pipeline.fit(trainData)"
   ]
  },
  {
   "cell_type": "code",
   "execution_count": null,
   "metadata": {
    "colab": {
     "base_uri": "https://localhost:8080/"
    },
    "executionInfo": {
     "elapsed": 11,
     "status": "ok",
     "timestamp": 1653228807824,
     "user": {
      "displayName": "Jing Wora",
      "userId": "14098338404840441752"
     },
     "user_tz": -540
    },
    "id": "fnD0XmtP1B-t",
    "outputId": "1129b1db-dedd-4b6a-eae2-256e6c1de09a"
   },
   "outputs": [
    {
     "data": {
      "text/plain": [
       "['ClassifierDLApproach_45630e6891a9.log']"
      ]
     },
     "execution_count": 102,
     "metadata": {},
     "output_type": "execute_result"
    }
   ],
   "source": [
    "# Check log file\n",
    "\n",
    "log_files = os.listdir(f'{LOG_DIR}')\n",
    "log_files"
   ]
  },
  {
   "cell_type": "code",
   "execution_count": null,
   "metadata": {
    "colab": {
     "base_uri": "https://localhost:8080/"
    },
    "executionInfo": {
     "elapsed": 7,
     "status": "ok",
     "timestamp": 1653228807824,
     "user": {
      "displayName": "Jing Wora",
      "userId": "14098338404840441752"
     },
     "user_tz": -540
    },
    "id": "WhETsvAjErGL",
    "outputId": "2f2e8667-ee42-4ea3-c882-0779aac77890"
   },
   "outputs": [
    {
     "name": "stdout",
     "output_type": "stream",
     "text": [
      "Training started - epochs: 30 - learning_rate: 0.002 - batch_size: 4 - training_examples: 3021 - classes: 2\n",
      "Epoch 0/30 - 1.58s - loss: 497.48013 - acc: 0.59635764 - batches: 756\n",
      "Epoch 1/30 - 1.29s - loss: 440.06073 - acc: 0.73112583 - batches: 756\n",
      "Epoch 2/30 - 1.29s - loss: 425.20084 - acc: 0.7592715 - batches: 756\n",
      "Epoch 3/30 - 1.30s - loss: 416.64523 - acc: 0.7705298 - batches: 756\n",
      "Epoch 4/30 - 1.29s - loss: 410.4513 - acc: 0.7758278 - batches: 756\n",
      "Epoch 5/30 - 1.30s - loss: 405.62384 - acc: 0.7834437 - batches: 756\n",
      "Epoch 6/30 - 1.29s - loss: 401.70065 - acc: 0.789404 - batches: 756\n",
      "Epoch 7/30 - 1.29s - loss: 398.4666 - acc: 0.79337746 - batches: 756\n",
      "Epoch 8/30 - 1.31s - loss: 395.7562 - acc: 0.79701984 - batches: 756\n",
      "Epoch 9/30 - 1.29s - loss: 393.39655 - acc: 0.79966885 - batches: 756\n",
      "Epoch 10/30 - 1.29s - loss: 391.3382 - acc: 0.802649 - batches: 756\n",
      "Epoch 11/30 - 1.29s - loss: 389.5192 - acc: 0.8076159 - batches: 756\n",
      "Epoch 12/30 - 1.28s - loss: 387.89816 - acc: 0.8089404 - batches: 756\n",
      "Epoch 13/30 - 1.28s - loss: 386.4447 - acc: 0.81059605 - batches: 756\n",
      "Epoch 14/30 - 1.31s - loss: 385.09937 - acc: 0.81324506 - batches: 756\n",
      "Epoch 15/30 - 1.29s - loss: 383.858 - acc: 0.81490064 - batches: 756\n",
      "Epoch 16/30 - 1.28s - loss: 382.69766 - acc: 0.8165563 - batches: 756\n",
      "Epoch 17/30 - 1.28s - loss: 381.60965 - acc: 0.81721854 - batches: 756\n",
      "Epoch 18/30 - 1.29s - loss: 380.60678 - acc: 0.8182119 - batches: 756\n",
      "Epoch 19/30 - 1.31s - loss: 379.67242 - acc: 0.8208609 - batches: 756\n",
      "Epoch 20/30 - 1.28s - loss: 378.79144 - acc: 0.821192 - batches: 756\n",
      "Epoch 21/30 - 1.27s - loss: 377.9614 - acc: 0.82384104 - batches: 756\n",
      "Epoch 22/30 - 1.31s - loss: 377.17194 - acc: 0.8254967 - batches: 756\n",
      "Epoch 23/30 - 1.29s - loss: 376.41946 - acc: 0.8274834 - batches: 756\n",
      "Epoch 24/30 - 1.28s - loss: 375.7089 - acc: 0.82913905 - batches: 756\n",
      "Epoch 25/30 - 1.28s - loss: 375.0341 - acc: 0.8298013 - batches: 756\n",
      "Epoch 26/30 - 1.28s - loss: 374.39798 - acc: 0.83145696 - batches: 756\n",
      "Epoch 27/30 - 1.29s - loss: 373.79852 - acc: 0.83178806 - batches: 756\n",
      "Epoch 28/30 - 1.27s - loss: 373.21848 - acc: 0.83245033 - batches: 756\n",
      "Epoch 29/30 - 1.29s - loss: 372.6549 - acc: 0.8334437 - batches: 756\n",
      "\n"
     ]
    }
   ],
   "source": [
    "# Read log file\n",
    "\n",
    "log_file_name = os.listdir(f'{LOG_DIR}')[0]\n",
    "\n",
    "with open(f'{LOG_DIR}{log_file_name}', \"r\") as log_file :\n",
    "    print(log_file.read())"
   ]
  },
  {
   "cell_type": "code",
   "execution_count": null,
   "metadata": {
    "colab": {
     "base_uri": "https://localhost:8080/"
    },
    "executionInfo": {
     "elapsed": 72395,
     "status": "ok",
     "timestamp": 1653228880214,
     "user": {
      "displayName": "Jing Wora",
      "userId": "14098338404840441752"
     },
     "user_tz": -540
    },
    "id": "e-ggAO8zVucV",
    "outputId": "8f327fa4-b448-41ce-fac0-79b4ba0c3719"
   },
   "outputs": [
    {
     "name": "stdout",
     "output_type": "stream",
     "text": [
      "    isFake                                               text result\n",
      "0        1  サウジアラビアのメッカで、将棋倒し事故があり、少なくとも717人が死亡、800人以上が負傷し...    [0]\n",
      "1        1  エジプトのシナイ半島での爆弾テロ事件が、現地時間24日早朝2時に、エジプト・シナイ半島で起こ...    [1]\n",
      "2        0  日刊スポーツによると、野球殿堂の2007年度の表彰者が1月12日発表された。それによると故・...    [0]\n",
      "3        1  秋田魁新報と秋田放送によると、10日午前10時40分頃、東日本秋田支社から男性運転士(27歳...    [1]\n",
      "4        1  欧州サッカー連盟のブラッター会長は26日、とスポンサーとしての権限を効かせイメージ悪化を抑止...    [1]\n",
      "..     ...                                                ...    ...\n",
      "755      0  12月26日午前9時6分頃[注釈 1]（UTC+9）、岐阜県関ケ原町内の東海道新幹線・米原駅...    [1]\n",
      "756      1  産経新聞および読売新聞によると、東日本は6月27日、常磐線の広野−竜田(福島県広野町)間(5...    [1]\n",
      "757      1  47(共同通信)・毎日新聞によると、5月17日に広島市中区の新ビジネスホテル「アソシア広島新...    [1]\n",
      "758      1  朝日新聞によると、27日、鹿児島県鹿屋市の国道269号近くの歩道にあった郵便ポストがなくなっ...    [1]\n",
      "759      1  毎日新聞・読売新聞によると、国際サッカー連盟・ジェローム・バルク事務局長(en)は13日、ス...    [0]\n",
      "\n",
      "[760 rows x 3 columns]\n"
     ]
    }
   ],
   "source": [
    "preds = bert_clf_pipelineModel.transform(testData)\n",
    "preds_df = preds.select('isFake','text',\"class.result\").toPandas()\n",
    "\n",
    "print(preds_df)"
   ]
  },
  {
   "cell_type": "code",
   "execution_count": null,
   "metadata": {
    "colab": {
     "base_uri": "https://localhost:8080/"
    },
    "executionInfo": {
     "elapsed": 13,
     "status": "ok",
     "timestamp": 1653228880214,
     "user": {
      "displayName": "Jing Wora",
      "userId": "14098338404840441752"
     },
     "user_tz": -540
    },
    "id": "iIuBQu25EunM",
    "outputId": "b72b3054-969b-493c-9677-b1a3e0591d87"
   },
   "outputs": [
    {
     "name": "stdout",
     "output_type": "stream",
     "text": [
      "              precision    recall  f1-score   support\n",
      "\n",
      "           0       0.76      0.81      0.78       339\n",
      "           1       0.84      0.79      0.81       421\n",
      "\n",
      "    accuracy                           0.80       760\n",
      "   macro avg       0.80      0.80      0.80       760\n",
      "weighted avg       0.80      0.80      0.80       760\n",
      "\n"
     ]
    }
   ],
   "source": [
    "# We are going to use sklearn to evalute the results on test dataset\n",
    "from sklearn.metrics import classification_report\n",
    "\n",
    "preds_df['result'] = preds_df['result'].apply(lambda x : x[0])\n",
    "\n",
    "print (classification_report(preds_df['result'], preds_df['isFake']))"
   ]
  },
  {
   "cell_type": "markdown",
   "metadata": {
    "id": "bRNYndZNTF6a"
   },
   "source": [
    "## Save Model"
   ]
  },
  {
   "cell_type": "code",
   "execution_count": null,
   "metadata": {
    "id": "IC6UxO2HTM78"
   },
   "outputs": [],
   "source": [
    "# Save a Spark NLP pipeline\n",
    "bert_clf_pipelineModel.save(f'{MODEL_DIR}{CFG.EXP_ID}/model')"
   ]
  },
  {
   "cell_type": "code",
   "execution_count": null,
   "metadata": {
    "id": "yECkt7mIn-zd"
   },
   "outputs": [],
   "source": [
    "# # cd into saved dir and zip\n",
    "# ! cd \"{MODEL_DIR}{CFG.EXP_ID}/model\" ; zip -r {MODEL_DIR}{CFG.EXP_ID}/my_nlp_pipeline.zip *"
   ]
  },
  {
   "cell_type": "markdown",
   "metadata": {
    "id": "Oik0tzTciSC6"
   },
   "source": [
    "## Load Model"
   ]
  },
  {
   "cell_type": "code",
   "execution_count": null,
   "metadata": {
    "id": "MOTrTxeFiUDb"
   },
   "outputs": [],
   "source": [
    "# Setting (Colab Setup to Load Dataset)\n",
    "\n",
    "loaded_bert_clf_pipelineModel = PipelineModel.load(f'{MODEL_DIR}{CFG.EXP_ID}/model')"
   ]
  },
  {
   "cell_type": "markdown",
   "metadata": {
    "id": "u-wLgQQYg-JE"
   },
   "source": [
    "## Infer"
   ]
  },
  {
   "cell_type": "code",
   "execution_count": null,
   "metadata": {
    "colab": {
     "base_uri": "https://localhost:8080/"
    },
    "executionInfo": {
     "elapsed": 360598,
     "status": "ok",
     "timestamp": 1653229886835,
     "user": {
      "displayName": "Jing Wora",
      "userId": "14098338404840441752"
     },
     "user_tz": -540
    },
    "id": "bPHg_AgFTwIN",
    "outputId": "7428c08b-8309-473d-99fc-29d30380fc3e"
   },
   "outputs": [
    {
     "name": "stdout",
     "output_type": "stream",
     "text": [
      "              id                                               text result\n",
      "0     d253d7b7ac  共同通信によると、ペルーの政党「シ・クンプレ」が、6日、中央選管である全国選挙評議会 (JN...    [1]\n",
      "1     fcfe44d0a0  自殺した川田亜子さんの元恋人とされる、映画監督で平和活動家のマット・テイラー氏が、川田さんが...    [1]\n",
      "2     213caf5cf5  沖縄タイムスによると、アメリカ軍の海兵隊・二等軍曹(38歳)が2月10日深夜、沖縄市の公園近...    [1]\n",
      "3     15aefc8374  動画投稿サイト「C2」に人気ドラマやバラエティ番組を投稿したとして、著作権法違反(公衆送信権...    [1]\n",
      "4     aded40e220  報道機関各社によると、12月1日、東京都内で日本プロ野球の2次ドラフトが初めて行われた。サン...    [1]\n",
      "...          ...                                                ...    ...\n",
      "3776  f87ff9f55f  スポーツニッポンによると、2015年9月12日に投票が行われることになっている(欧州サッカー...    [1]\n",
      "3777  f7bb120e80  朝日新聞・時事通信によると、大韓民国の仁川空港とソウル駅とを結ぶ空港鉄道（KORAIL空港鉄...    [0]\n",
      "3778  09cb71299e  気象庁によると、台風17号「ルンビア」(umbia)は、7日午前10時現在、南鳥島の南西約2...    [1]\n",
      "3779  ce8e47d692  中日新聞、朝日新聞、読売新聞、産経新聞、C、日本放送協会によると、インドネシアは27日、バン...    [1]\n",
      "3780  044c06ac12  25日、高校の一部科目の履修漏れが判明した問題で、26日までに35都道県の254校(内、私立...    [1]\n",
      "\n",
      "[3781 rows x 3 columns]\n"
     ]
    }
   ],
   "source": [
    "# submission\n",
    "\n",
    "preds = loaded_bert_clf_pipelineModel.transform(holdout)\n",
    "\n",
    "preds_df = preds.select('id', 'text',\"class.result\").toPandas()\n",
    "\n",
    "print(preds_df)"
   ]
  },
  {
   "cell_type": "code",
   "execution_count": null,
   "metadata": {
    "colab": {
     "base_uri": "https://localhost:8080/",
     "height": 442
    },
    "executionInfo": {
     "elapsed": 24,
     "status": "ok",
     "timestamp": 1653229886837,
     "user": {
      "displayName": "Jing Wora",
      "userId": "14098338404840441752"
     },
     "user_tz": -540
    },
    "id": "9XA8SmCIX29g",
    "outputId": "c337dab6-fbb7-479c-b0cc-12eca6f7810b"
   },
   "outputs": [
    {
     "name": "stdout",
     "output_type": "stream",
     "text": [
      "3781\n"
     ]
    },
    {
     "data": {
      "text/html": [
       "\n",
       "  <div id=\"df-031f61fe-7626-491f-a108-2d97921eb494\">\n",
       "    <div class=\"colab-df-container\">\n",
       "      <div>\n",
       "<style scoped>\n",
       "    .dataframe tbody tr th:only-of-type {\n",
       "        vertical-align: middle;\n",
       "    }\n",
       "\n",
       "    .dataframe tbody tr th {\n",
       "        vertical-align: top;\n",
       "    }\n",
       "\n",
       "    .dataframe thead th {\n",
       "        text-align: right;\n",
       "    }\n",
       "</style>\n",
       "<table border=\"1\" class=\"dataframe\">\n",
       "  <thead>\n",
       "    <tr style=\"text-align: right;\">\n",
       "      <th></th>\n",
       "      <th>id</th>\n",
       "      <th>isFake</th>\n",
       "    </tr>\n",
       "  </thead>\n",
       "  <tbody>\n",
       "    <tr>\n",
       "      <th>0</th>\n",
       "      <td>d253d7b7ac</td>\n",
       "      <td>1</td>\n",
       "    </tr>\n",
       "    <tr>\n",
       "      <th>1</th>\n",
       "      <td>fcfe44d0a0</td>\n",
       "      <td>1</td>\n",
       "    </tr>\n",
       "    <tr>\n",
       "      <th>2</th>\n",
       "      <td>213caf5cf5</td>\n",
       "      <td>1</td>\n",
       "    </tr>\n",
       "    <tr>\n",
       "      <th>3</th>\n",
       "      <td>15aefc8374</td>\n",
       "      <td>1</td>\n",
       "    </tr>\n",
       "    <tr>\n",
       "      <th>4</th>\n",
       "      <td>aded40e220</td>\n",
       "      <td>1</td>\n",
       "    </tr>\n",
       "    <tr>\n",
       "      <th>...</th>\n",
       "      <td>...</td>\n",
       "      <td>...</td>\n",
       "    </tr>\n",
       "    <tr>\n",
       "      <th>3776</th>\n",
       "      <td>f87ff9f55f</td>\n",
       "      <td>1</td>\n",
       "    </tr>\n",
       "    <tr>\n",
       "      <th>3777</th>\n",
       "      <td>f7bb120e80</td>\n",
       "      <td>0</td>\n",
       "    </tr>\n",
       "    <tr>\n",
       "      <th>3778</th>\n",
       "      <td>09cb71299e</td>\n",
       "      <td>1</td>\n",
       "    </tr>\n",
       "    <tr>\n",
       "      <th>3779</th>\n",
       "      <td>ce8e47d692</td>\n",
       "      <td>1</td>\n",
       "    </tr>\n",
       "    <tr>\n",
       "      <th>3780</th>\n",
       "      <td>044c06ac12</td>\n",
       "      <td>1</td>\n",
       "    </tr>\n",
       "  </tbody>\n",
       "</table>\n",
       "<p>3781 rows × 2 columns</p>\n",
       "</div>\n",
       "      <button class=\"colab-df-convert\" onclick=\"convertToInteractive('df-031f61fe-7626-491f-a108-2d97921eb494')\"\n",
       "              title=\"Convert this dataframe to an interactive table.\"\n",
       "              style=\"display:none;\">\n",
       "        \n",
       "  <svg xmlns=\"http://www.w3.org/2000/svg\" height=\"24px\"viewBox=\"0 0 24 24\"\n",
       "       width=\"24px\">\n",
       "    <path d=\"M0 0h24v24H0V0z\" fill=\"none\"/>\n",
       "    <path d=\"M18.56 5.44l.94 2.06.94-2.06 2.06-.94-2.06-.94-.94-2.06-.94 2.06-2.06.94zm-11 1L8.5 8.5l.94-2.06 2.06-.94-2.06-.94L8.5 2.5l-.94 2.06-2.06.94zm10 10l.94 2.06.94-2.06 2.06-.94-2.06-.94-.94-2.06-.94 2.06-2.06.94z\"/><path d=\"M17.41 7.96l-1.37-1.37c-.4-.4-.92-.59-1.43-.59-.52 0-1.04.2-1.43.59L10.3 9.45l-7.72 7.72c-.78.78-.78 2.05 0 2.83L4 21.41c.39.39.9.59 1.41.59.51 0 1.02-.2 1.41-.59l7.78-7.78 2.81-2.81c.8-.78.8-2.07 0-2.86zM5.41 20L4 18.59l7.72-7.72 1.47 1.35L5.41 20z\"/>\n",
       "  </svg>\n",
       "      </button>\n",
       "      \n",
       "  <style>\n",
       "    .colab-df-container {\n",
       "      display:flex;\n",
       "      flex-wrap:wrap;\n",
       "      gap: 12px;\n",
       "    }\n",
       "\n",
       "    .colab-df-convert {\n",
       "      background-color: #E8F0FE;\n",
       "      border: none;\n",
       "      border-radius: 50%;\n",
       "      cursor: pointer;\n",
       "      display: none;\n",
       "      fill: #1967D2;\n",
       "      height: 32px;\n",
       "      padding: 0 0 0 0;\n",
       "      width: 32px;\n",
       "    }\n",
       "\n",
       "    .colab-df-convert:hover {\n",
       "      background-color: #E2EBFA;\n",
       "      box-shadow: 0px 1px 2px rgba(60, 64, 67, 0.3), 0px 1px 3px 1px rgba(60, 64, 67, 0.15);\n",
       "      fill: #174EA6;\n",
       "    }\n",
       "\n",
       "    [theme=dark] .colab-df-convert {\n",
       "      background-color: #3B4455;\n",
       "      fill: #D2E3FC;\n",
       "    }\n",
       "\n",
       "    [theme=dark] .colab-df-convert:hover {\n",
       "      background-color: #434B5C;\n",
       "      box-shadow: 0px 1px 3px 1px rgba(0, 0, 0, 0.15);\n",
       "      filter: drop-shadow(0px 1px 2px rgba(0, 0, 0, 0.3));\n",
       "      fill: #FFFFFF;\n",
       "    }\n",
       "  </style>\n",
       "\n",
       "      <script>\n",
       "        const buttonEl =\n",
       "          document.querySelector('#df-031f61fe-7626-491f-a108-2d97921eb494 button.colab-df-convert');\n",
       "        buttonEl.style.display =\n",
       "          google.colab.kernel.accessAllowed ? 'block' : 'none';\n",
       "\n",
       "        async function convertToInteractive(key) {\n",
       "          const element = document.querySelector('#df-031f61fe-7626-491f-a108-2d97921eb494');\n",
       "          const dataTable =\n",
       "            await google.colab.kernel.invokeFunction('convertToInteractive',\n",
       "                                                     [key], {});\n",
       "          if (!dataTable) return;\n",
       "\n",
       "          const docLinkHtml = 'Like what you see? Visit the ' +\n",
       "            '<a target=\"_blank\" href=https://colab.research.google.com/notebooks/data_table.ipynb>data table notebook</a>'\n",
       "            + ' to learn more about interactive tables.';\n",
       "          element.innerHTML = '';\n",
       "          dataTable['output_type'] = 'display_data';\n",
       "          await google.colab.output.renderOutput(dataTable, element);\n",
       "          const docLink = document.createElement('div');\n",
       "          docLink.innerHTML = docLinkHtml;\n",
       "          element.appendChild(docLink);\n",
       "        }\n",
       "      </script>\n",
       "    </div>\n",
       "  </div>\n",
       "  "
      ],
      "text/plain": [
       "              id isFake\n",
       "0     d253d7b7ac      1\n",
       "1     fcfe44d0a0      1\n",
       "2     213caf5cf5      1\n",
       "3     15aefc8374      1\n",
       "4     aded40e220      1\n",
       "...          ...    ...\n",
       "3776  f87ff9f55f      1\n",
       "3777  f7bb120e80      0\n",
       "3778  09cb71299e      1\n",
       "3779  ce8e47d692      1\n",
       "3780  044c06ac12      1\n",
       "\n",
       "[3781 rows x 2 columns]"
      ]
     },
     "execution_count": 110,
     "metadata": {},
     "output_type": "execute_result"
    }
   ],
   "source": [
    "# create submission_df\n",
    "submission_df = preds_df[['id', 'result']].copy()\n",
    "\n",
    "submission_df['result'] = submission_df['result'].str[0]\n",
    "submission_df = submission_df.rename(columns={\"result\": \"isFake\"})\n",
    "\n",
    "print(len(submission_df)) # Recheck 3781\n",
    "\n",
    "submission_df"
   ]
  },
  {
   "cell_type": "code",
   "execution_count": null,
   "metadata": {
    "colab": {
     "base_uri": "https://localhost:8080/"
    },
    "executionInfo": {
     "elapsed": 387,
     "status": "ok",
     "timestamp": 1653229887212,
     "user": {
      "displayName": "Jing Wora",
      "userId": "14098338404840441752"
     },
     "user_tz": -540
    },
    "id": "uvoANXNlY363",
    "outputId": "3db31c6a-11ce-41c3-ab11-585f35146c7f"
   },
   "outputs": [
    {
     "name": "stdout",
     "output_type": "stream",
     "text": [
      "/content/drive/MyDrive/Projects/nishika/2022_fake_news_detection/03_result/submission_EXP_010.csv\n"
     ]
    }
   ],
   "source": [
    "# Save file\n",
    "\n",
    "SAVE_DIR = RESULT_DIR + f'submission_{CFG.EXP_ID}.csv'\n",
    "submission_df.to_csv(SAVE_DIR, index=False)\n",
    "\n",
    "print(SAVE_DIR)"
   ]
  },
  {
   "cell_type": "code",
   "execution_count": null,
   "metadata": {
    "id": "V2y3Xx4Iie7X"
   },
   "outputs": [],
   "source": []
  }
 ],
 "metadata": {
  "accelerator": "GPU",
  "colab": {
   "collapsed_sections": [],
   "machine_shape": "hm",
   "name": "sparknlp-JP-albert-train+infer.ipynb",
   "provenance": [],
   "toc_visible": true
  },
  "hide_input": false,
  "kernelspec": {
   "display_name": "Python 3",
   "language": "python",
   "name": "python3"
  },
  "language_info": {
   "codemirror_mode": {
    "name": "ipython",
    "version": 3
   },
   "file_extension": ".py",
   "mimetype": "text/x-python",
   "name": "python",
   "nbconvert_exporter": "python",
   "pygments_lexer": "ipython3",
   "version": "3.8.8"
  },
  "toc": {
   "base_numbering": 1,
   "nav_menu": {},
   "number_sections": true,
   "sideBar": true,
   "skip_h1_title": false,
   "title_cell": "Table of Contents",
   "title_sidebar": "Contents",
   "toc_cell": false,
   "toc_position": {},
   "toc_section_display": true,
   "toc_window_display": false
  },
  "varInspector": {
   "cols": {
    "lenName": 16,
    "lenType": 16,
    "lenVar": 40
   },
   "kernels_config": {
    "python": {
     "delete_cmd_postfix": "",
     "delete_cmd_prefix": "del ",
     "library": "var_list.py",
     "varRefreshCmd": "print(var_dic_list())"
    },
    "r": {
     "delete_cmd_postfix": ") ",
     "delete_cmd_prefix": "rm(",
     "library": "var_list.r",
     "varRefreshCmd": "cat(var_dic_list()) "
    }
   },
   "types_to_exclude": [
    "module",
    "function",
    "builtin_function_or_method",
    "instance",
    "_Feature"
   ],
   "window_display": false
  }
 },
 "nbformat": 4,
 "nbformat_minor": 1
}
